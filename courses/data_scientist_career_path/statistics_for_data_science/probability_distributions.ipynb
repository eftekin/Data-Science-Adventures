{
 "cells": [
  {
   "cell_type": "markdown",
   "metadata": {},
   "source": [
    "## Probability Distributions"
   ]
  },
  {
   "cell_type": "code",
   "execution_count": 1,
   "metadata": {},
   "outputs": [],
   "source": [
    "# imports\n",
    "import numpy as np\n",
    "import scipy.stats as stats"
   ]
  },
  {
   "cell_type": "markdown",
   "metadata": {},
   "source": [
    "### Random Variables"
   ]
  },
  {
   "cell_type": "code",
   "execution_count": 2,
   "metadata": {},
   "outputs": [
    {
     "data": {
      "text/plain": [
       "array([2, 6, 6, 1, 3])"
      ]
     },
     "execution_count": 2,
     "metadata": {},
     "output_type": "execute_result"
    }
   ],
   "source": [
    "die_6 = range(1,7)\n",
    "num_rolls = 5\n",
    "rolls = np.random.choice(die_6, size=num_rolls, replace=True)\n",
    "rolls"
   ]
  },
  {
   "cell_type": "markdown",
   "metadata": {},
   "source": [
    "### Mass Functions\n",
    "- x: the value of interest\n",
    "- n: the number of trials\n",
    "- p: the probability of succes"
   ]
  },
  {
   "cell_type": "code",
   "execution_count": 3,
   "metadata": {},
   "outputs": [
    {
     "data": {
      "text/plain": [
       "0.11718750000000004"
      ]
     },
     "execution_count": 3,
     "metadata": {},
     "output_type": "execute_result"
    }
   ],
   "source": [
    "# value of interest\n",
    "x = 3\n",
    "# sample size\n",
    "n = 10\n",
    "\n",
    "prob_1 = stats.binom.pmf(x, n, 0.5)\n",
    "prob_1"
   ]
  },
  {
   "cell_type": "code",
   "execution_count": 4,
   "metadata": {},
   "outputs": [
    {
     "name": "stdout",
     "output_type": "stream",
     "text": [
      "0.6562500000000002\n"
     ]
    }
   ],
   "source": [
    "# probability of observing between 4 to 6 heads from 10 coin flips\n",
    "prob_2 = stats.binom.pmf(4,n=10, p=.5) + stats.binom.pmf(5,n=10, p=.5) + stats.binom.pmf(6,n=10, p=.5)\n",
    "print(prob_2)"
   ]
  },
  {
   "cell_type": "code",
   "execution_count": 5,
   "metadata": {},
   "outputs": [
    {
     "data": {
      "text/plain": [
       "0.9453124999999999"
      ]
     },
     "execution_count": 5,
     "metadata": {},
     "output_type": "execute_result"
    }
   ],
   "source": [
    "# probability of observing more than 2 heads from 10 coin flips\n",
    "prob_3 = 1 - (stats.binom.pmf(0, n=10, p=0.5) + stats.binom.pmf(1, n=10, p=0.5) + stats.binom.pmf(2, n=10, p=0.5))\n",
    "prob_3\n"
   ]
  },
  {
   "cell_type": "markdown",
   "metadata": {},
   "source": [
    "### Cumulative Distribution\n",
    "we wanted to know the probability from 3 to 6, which includes 3. Mathematically, this looks like the following equation:\n",
    "\n",
    "- P(X≤6) = CDF(X=6) = 0.83\n",
    "- P(X≤2) = CDF(X=2) = 0.05\n",
    "\n",
    "- P(X≤6) - P(X≤2) = P(3≤X≤6)\n",
    "- CDF(X=6) - CDF(X=2) = P(3≤X≤6)\n",
    "- 0.83 - 0.05 = 0.78"
   ]
  },
  {
   "cell_type": "code",
   "execution_count": 6,
   "metadata": {},
   "outputs": [
    {
     "data": {
      "text/plain": [
       "0.828125"
      ]
     },
     "execution_count": 6,
     "metadata": {},
     "output_type": "execute_result"
    }
   ],
   "source": [
    "# 6 or fewer heads from 10 fair coin flips\n",
    "stats.binom.cdf(6, 10, 0.5)"
   ]
  },
  {
   "cell_type": "code",
   "execution_count": 7,
   "metadata": {},
   "outputs": [
    {
     "data": {
      "text/plain": [
       "0.8173828125"
      ]
     },
     "execution_count": 7,
     "metadata": {},
     "output_type": "execute_result"
    }
   ],
   "source": [
    "# P(4 to 8 Heads) = P(0 to 8 Heads) − P(0 to 3 Heads)\n",
    "stats.binom.cdf(8,10,0.5) - stats.binom.cdf(3,10,0.5)"
   ]
  },
  {
   "cell_type": "code",
   "execution_count": 8,
   "metadata": {},
   "outputs": [
    {
     "data": {
      "text/plain": [
       "0.171875"
      ]
     },
     "execution_count": 8,
     "metadata": {},
     "output_type": "execute_result"
    }
   ],
   "source": [
    "# more than 6 heads from 10 fair coin flips (Note that “more than 6 heads” does not include 6.)\n",
    "1 - stats.binom.cdf(6, 10, 0.5)"
   ]
  },
  {
   "cell_type": "markdown",
   "metadata": {},
   "source": [
    "###  Density Functions\n",
    "- x: the value of interest\n",
    "- loc: the mean of the probability distribution\n",
    "- scale: the standard deviation of the probability distribution"
   ]
  },
  {
   "cell_type": "code",
   "execution_count": 9,
   "metadata": {},
   "outputs": [
    {
     "data": {
      "text/plain": [
       "0.8212136203856288"
      ]
     },
     "execution_count": 9,
     "metadata": {},
     "output_type": "execute_result"
    }
   ],
   "source": [
    "# the probability that a randomly chosen woman is less than 175 cm tall.\n",
    "# stats.norm.cdf(x, loc, scale)\n",
    "stats.norm.cdf(175, 167.64, 8)"
   ]
  },
  {
   "cell_type": "markdown",
   "metadata": {},
   "source": [
    "#### Probability Density Functions and Cumulative Distribution Function"
   ]
  },
  {
   "cell_type": "code",
   "execution_count": 10,
   "metadata": {},
   "outputs": [
    {
     "data": {
      "text/plain": [
       "0.6997171101802624"
      ]
     },
     "execution_count": 10,
     "metadata": {},
     "output_type": "execute_result"
    }
   ],
   "source": [
    "# The weather in the Galapagos islands follows a Normal distribution with a mean of 20 degrees Celcius and a standard deviation of 3 degrees.\n",
    "degrees_mean = 20\n",
    "degrees_std = 3\n",
    "\n",
    "# probability that the weather on a randomly selected day will be between 18 to 25 degrees Celcius \n",
    "stats.norm.cdf(25,degrees_mean,degrees_std) - stats.norm.cdf(18,degrees_mean, degrees_std)"
   ]
  },
  {
   "cell_type": "code",
   "execution_count": 11,
   "metadata": {},
   "outputs": [
    {
     "data": {
      "text/plain": [
       "0.09121121972586788"
      ]
     },
     "execution_count": 11,
     "metadata": {},
     "output_type": "execute_result"
    }
   ],
   "source": [
    "# probability that the weather on a randomly selected day will be greater than 24 degrees Celsius\n",
    "1 - stats.norm.cdf(24,degrees_mean,degrees_std)"
   ]
  },
  {
   "cell_type": "markdown",
   "metadata": {},
   "source": [
    "### Poisson Distribution"
   ]
  },
  {
   "cell_type": "code",
   "execution_count": null,
   "metadata": {},
   "outputs": [],
   "source": []
  }
 ],
 "metadata": {
  "kernelspec": {
   "display_name": "Python 3",
   "language": "python",
   "name": "python3"
  },
  "language_info": {
   "codemirror_mode": {
    "name": "ipython",
    "version": 3
   },
   "file_extension": ".py",
   "mimetype": "text/x-python",
   "name": "python",
   "nbconvert_exporter": "python",
   "pygments_lexer": "ipython3",
   "version": "3.12.2"
  }
 },
 "nbformat": 4,
 "nbformat_minor": 2
}
