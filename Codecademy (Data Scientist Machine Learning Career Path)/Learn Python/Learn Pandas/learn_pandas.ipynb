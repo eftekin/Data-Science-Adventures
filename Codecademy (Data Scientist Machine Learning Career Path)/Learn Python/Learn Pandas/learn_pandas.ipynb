{
 "cells": [
  {
   "cell_type": "markdown",
   "metadata": {},
   "source": [
    "### Import Library\n"
   ]
  },
  {
   "cell_type": "code",
   "execution_count": null,
   "metadata": {},
   "outputs": [],
   "source": [
    "import pandas as pd"
   ]
  },
  {
   "cell_type": "markdown",
   "metadata": {},
   "source": [
    "### Create DataFrame\n"
   ]
  },
  {
   "cell_type": "code",
   "execution_count": null,
   "metadata": {},
   "outputs": [],
   "source": [
    "df1 = pd.DataFrame(\n",
    "    {\n",
    "        \"Product ID\": [1, 2, 3, 4],\n",
    "        \"Product Name\": [\"t-shirt\", \"t-shirt\", \"skirt\", \"skirt\"],\n",
    "        \"Color\": [\"blue\", \"green\", \"red\", \"black\"],\n",
    "    }\n",
    ")\n",
    "df1"
   ]
  },
  {
   "cell_type": "code",
   "execution_count": null,
   "metadata": {},
   "outputs": [],
   "source": [
    "df2 = pd.DataFrame(\n",
    "    [\n",
    "        [1, \"San Diego\", 100],\n",
    "        [2, \"Los Angeles\", 120],\n",
    "        [3, \"San Francisco\", 90],\n",
    "        [4, \"Sacramento\", 115],\n",
    "    ],\n",
    "    columns=[\"Store ID\", \"Location\", \"Number of Employees\"],\n",
    ")\n",
    "\n",
    "df2"
   ]
  },
  {
   "cell_type": "markdown",
   "metadata": {},
   "source": [
    "### Read CSV\n"
   ]
  },
  {
   "cell_type": "code",
   "execution_count": null,
   "metadata": {},
   "outputs": [],
   "source": [
    "df = pd.read_csv(\"Electric_Vehicle_Population_Data.csv\")\n",
    "df.head(3)"
   ]
  },
  {
   "cell_type": "markdown",
   "metadata": {},
   "source": [
    "### Select Column\n"
   ]
  },
  {
   "cell_type": "code",
   "execution_count": null,
   "metadata": {},
   "outputs": [],
   "source": [
    "model_year = df[\"Model Year\"]\n",
    "type(model_year)\n",
    "model_year"
   ]
  },
  {
   "cell_type": "markdown",
   "metadata": {},
   "source": [
    "### Select Multiple Columns\n"
   ]
  },
  {
   "cell_type": "code",
   "execution_count": null,
   "metadata": {},
   "outputs": [],
   "source": [
    "model_and_range = df[[\"Model\", \"Electric Range\"]]\n",
    "model_and_range\n",
    "type(model_and_range)"
   ]
  },
  {
   "cell_type": "markdown",
   "metadata": {},
   "source": [
    "### Select Rows\n"
   ]
  },
  {
   "cell_type": "code",
   "execution_count": null,
   "metadata": {},
   "outputs": [],
   "source": [
    "model_and_range.iloc[2]  # Select one row"
   ]
  },
  {
   "cell_type": "code",
   "execution_count": null,
   "metadata": {},
   "outputs": [],
   "source": [
    "model_and_range.iloc[2:10]  # Select multiple row 2 to 10 (not including 10)"
   ]
  },
  {
   "cell_type": "code",
   "execution_count": null,
   "metadata": {},
   "outputs": [],
   "source": [
    "model_and_range.iloc[:4]  # Select multiple row start to 4 (not including 4)"
   ]
  },
  {
   "cell_type": "code",
   "execution_count": null,
   "metadata": {},
   "outputs": [],
   "source": [
    "model_and_range.iloc[-3:]  # Select multiple row (last 3 rows)"
   ]
  },
  {
   "cell_type": "markdown",
   "metadata": {},
   "source": [
    "### Select Rows with Logic\n"
   ]
  },
  {
   "cell_type": "code",
   "execution_count": null,
   "metadata": {},
   "outputs": [],
   "source": [
    "model3_df = model_and_range[model_and_range.Model == \"MODEL 3\"]\n",
    "model3_df"
   ]
  },
  {
   "cell_type": "code",
   "execution_count": null,
   "metadata": {},
   "outputs": [],
   "source": [
    "range_greater_300 = model_and_range[\n",
    "    (model_and_range[\"Electric Range\"] > 300) & (model_and_range.Model != \"MODEL 3\")\n",
    "]\n",
    "range_greater_300"
   ]
  },
  {
   "cell_type": "code",
   "execution_count": null,
   "metadata": {},
   "outputs": [],
   "source": [
    "range_less_300 = model_and_range[model_and_range[\"Electric Range\"] < 300]\n",
    "range_less_300"
   ]
  },
  {
   "cell_type": "code",
   "execution_count": null,
   "metadata": {},
   "outputs": [],
   "source": [
    "tesla = df[(df.Make == \"TESLA\") | (df[\"Electric Range\"] > 340)]\n",
    "tesla.head()"
   ]
  },
  {
   "cell_type": "code",
   "execution_count": null,
   "metadata": {},
   "outputs": [],
   "source": [
    "tesla_and_mercedes = df[df.Make.isin([\"TESLA\", \"MERCEDES-BENZ\"])]\n",
    "tesla_and_mercedes.head(10)"
   ]
  },
  {
   "cell_type": "code",
   "execution_count": null,
   "metadata": {},
   "outputs": [],
   "source": [
    "tesla_and_mercedes_reset_index = tesla_and_mercedes.reset_index(\n",
    "    drop=True\n",
    ")  # Drop module drops the extra column\n",
    "tesla_and_mercedes_reset_index"
   ]
  },
  {
   "cell_type": "code",
   "execution_count": 91,
   "metadata": {},
   "outputs": [
    {
     "ename": "ValueError",
     "evalue": "All arrays must be of the same length",
     "output_type": "error",
     "traceback": [
      "\u001b[0;31m---------------------------------------------------------------------------\u001b[0m",
      "\u001b[0;31mValueError\u001b[0m                                Traceback (most recent call last)",
      "\u001b[1;32m/Users/mustafaeftekin/Documents/GitHub/Data-Science-Adventures/Codecademy (Data Scientist Machine Learning Career Path)/Learn Python/Learn Pandas/learn_pandas.ipynb Cell 24\u001b[0m line \u001b[0;36m1\n\u001b[0;32m----> <a href='vscode-notebook-cell:/Users/mustafaeftekin/Documents/GitHub/Data-Science-Adventures/Codecademy%20%28Data%20Scientist%20Machine%20Learning%20Career%20Path%29/Learn%20Python/Learn%20Pandas/learn_pandas.ipynb#X41sZmlsZQ%3D%3D?line=0'>1</a>\u001b[0m grades \u001b[39m=\u001b[39m pd\u001b[39m.\u001b[39;49mDataFrame(\n\u001b[1;32m      <a href='vscode-notebook-cell:/Users/mustafaeftekin/Documents/GitHub/Data-Science-Adventures/Codecademy%20%28Data%20Scientist%20Machine%20Learning%20Career%20Path%29/Learn%20Python/Learn%20Pandas/learn_pandas.ipynb#X41sZmlsZQ%3D%3D?line=1'>2</a>\u001b[0m     {\n\u001b[1;32m      <a href='vscode-notebook-cell:/Users/mustafaeftekin/Documents/GitHub/Data-Science-Adventures/Codecademy%20%28Data%20Scientist%20Machine%20Learning%20Career%20Path%29/Learn%20Python/Learn%20Pandas/learn_pandas.ipynb#X41sZmlsZQ%3D%3D?line=2'>3</a>\u001b[0m         \u001b[39m\"\u001b[39;49m\u001b[39mname\u001b[39;49m\u001b[39m\"\u001b[39;49m: [\u001b[39m\"\u001b[39;49m\u001b[39mChloe\u001b[39;49m\u001b[39m\"\u001b[39;49m, \u001b[39m\"\u001b[39;49m\u001b[39mGrace\u001b[39;49m\u001b[39m\"\u001b[39;49m, \u001b[39m\"\u001b[39;49m\u001b[39mJeremy\u001b[39;49m\u001b[39m\"\u001b[39;49m, \u001b[39m\"\u001b[39;49m\u001b[39mIsla\u001b[39;49m\u001b[39m\"\u001b[39;49m],\n\u001b[1;32m      <a href='vscode-notebook-cell:/Users/mustafaeftekin/Documents/GitHub/Data-Science-Adventures/Codecademy%20%28Data%20Scientist%20Machine%20Learning%20Career%20Path%29/Learn%20Python/Learn%20Pandas/learn_pandas.ipynb#X41sZmlsZQ%3D%3D?line=3'>4</a>\u001b[0m         \u001b[39m\"\u001b[39;49m\u001b[39munit_1_grade\u001b[39;49m\u001b[39m\"\u001b[39;49m: [\u001b[39m95\u001b[39;49m, \u001b[39m82\u001b[39;49m, \u001b[39m83\u001b[39;49m, \u001b[39m75\u001b[39;49m],\n\u001b[1;32m      <a href='vscode-notebook-cell:/Users/mustafaeftekin/Documents/GitHub/Data-Science-Adventures/Codecademy%20%28Data%20Scientist%20Machine%20Learning%20Career%20Path%29/Learn%20Python/Learn%20Pandas/learn_pandas.ipynb#X41sZmlsZQ%3D%3D?line=4'>5</a>\u001b[0m         \u001b[39m\"\u001b[39;49m\u001b[39munit_2_grade\u001b[39;49m\u001b[39m\"\u001b[39;49m: [\u001b[39m91\u001b[39;49m, \u001b[39m74\u001b[39;49m, \u001b[39m89\u001b[39;49m, \u001b[39m84\u001b[39;49m],\n\u001b[1;32m      <a href='vscode-notebook-cell:/Users/mustafaeftekin/Documents/GitHub/Data-Science-Adventures/Codecademy%20%28Data%20Scientist%20Machine%20Learning%20Career%20Path%29/Learn%20Python/Learn%20Pandas/learn_pandas.ipynb#X41sZmlsZQ%3D%3D?line=5'>6</a>\u001b[0m         \u001b[39m\"\u001b[39;49m\u001b[39mGrade for the Year\u001b[39;49m\u001b[39m\"\u001b[39;49m: [\u001b[39m93\u001b[39;49m, \u001b[39m78\u001b[39;49m, \u001b[39m86\u001b[39;49m],\n\u001b[1;32m      <a href='vscode-notebook-cell:/Users/mustafaeftekin/Documents/GitHub/Data-Science-Adventures/Codecademy%20%28Data%20Scientist%20Machine%20Learning%20Career%20Path%29/Learn%20Python/Learn%20Pandas/learn_pandas.ipynb#X41sZmlsZQ%3D%3D?line=6'>7</a>\u001b[0m     }\n\u001b[1;32m      <a href='vscode-notebook-cell:/Users/mustafaeftekin/Documents/GitHub/Data-Science-Adventures/Codecademy%20%28Data%20Scientist%20Machine%20Learning%20Career%20Path%29/Learn%20Python/Learn%20Pandas/learn_pandas.ipynb#X41sZmlsZQ%3D%3D?line=7'>8</a>\u001b[0m )\n\u001b[1;32m     <a href='vscode-notebook-cell:/Users/mustafaeftekin/Documents/GitHub/Data-Science-Adventures/Codecademy%20%28Data%20Scientist%20Machine%20Learning%20Career%20Path%29/Learn%20Python/Learn%20Pandas/learn_pandas.ipynb#X41sZmlsZQ%3D%3D?line=9'>10</a>\u001b[0m grades\n",
      "File \u001b[0;32m/opt/homebrew/lib/python3.11/site-packages/pandas/core/frame.py:733\u001b[0m, in \u001b[0;36mDataFrame.__init__\u001b[0;34m(self, data, index, columns, dtype, copy)\u001b[0m\n\u001b[1;32m    727\u001b[0m     mgr \u001b[39m=\u001b[39m \u001b[39mself\u001b[39m\u001b[39m.\u001b[39m_init_mgr(\n\u001b[1;32m    728\u001b[0m         data, axes\u001b[39m=\u001b[39m{\u001b[39m\"\u001b[39m\u001b[39mindex\u001b[39m\u001b[39m\"\u001b[39m: index, \u001b[39m\"\u001b[39m\u001b[39mcolumns\u001b[39m\u001b[39m\"\u001b[39m: columns}, dtype\u001b[39m=\u001b[39mdtype, copy\u001b[39m=\u001b[39mcopy\n\u001b[1;32m    729\u001b[0m     )\n\u001b[1;32m    731\u001b[0m \u001b[39melif\u001b[39;00m \u001b[39misinstance\u001b[39m(data, \u001b[39mdict\u001b[39m):\n\u001b[1;32m    732\u001b[0m     \u001b[39m# GH#38939 de facto copy defaults to False only in non-dict cases\u001b[39;00m\n\u001b[0;32m--> 733\u001b[0m     mgr \u001b[39m=\u001b[39m dict_to_mgr(data, index, columns, dtype\u001b[39m=\u001b[39;49mdtype, copy\u001b[39m=\u001b[39;49mcopy, typ\u001b[39m=\u001b[39;49mmanager)\n\u001b[1;32m    734\u001b[0m \u001b[39melif\u001b[39;00m \u001b[39misinstance\u001b[39m(data, ma\u001b[39m.\u001b[39mMaskedArray):\n\u001b[1;32m    735\u001b[0m     \u001b[39mfrom\u001b[39;00m \u001b[39mnumpy\u001b[39;00m\u001b[39m.\u001b[39;00m\u001b[39mma\u001b[39;00m \u001b[39mimport\u001b[39;00m mrecords\n",
      "File \u001b[0;32m/opt/homebrew/lib/python3.11/site-packages/pandas/core/internals/construction.py:503\u001b[0m, in \u001b[0;36mdict_to_mgr\u001b[0;34m(data, index, columns, dtype, typ, copy)\u001b[0m\n\u001b[1;32m    499\u001b[0m     \u001b[39melse\u001b[39;00m:\n\u001b[1;32m    500\u001b[0m         \u001b[39m# dtype check to exclude e.g. range objects, scalars\u001b[39;00m\n\u001b[1;32m    501\u001b[0m         arrays \u001b[39m=\u001b[39m [x\u001b[39m.\u001b[39mcopy() \u001b[39mif\u001b[39;00m \u001b[39mhasattr\u001b[39m(x, \u001b[39m\"\u001b[39m\u001b[39mdtype\u001b[39m\u001b[39m\"\u001b[39m) \u001b[39melse\u001b[39;00m x \u001b[39mfor\u001b[39;00m x \u001b[39min\u001b[39;00m arrays]\n\u001b[0;32m--> 503\u001b[0m \u001b[39mreturn\u001b[39;00m arrays_to_mgr(arrays, columns, index, dtype\u001b[39m=\u001b[39;49mdtype, typ\u001b[39m=\u001b[39;49mtyp, consolidate\u001b[39m=\u001b[39;49mcopy)\n",
      "File \u001b[0;32m/opt/homebrew/lib/python3.11/site-packages/pandas/core/internals/construction.py:114\u001b[0m, in \u001b[0;36marrays_to_mgr\u001b[0;34m(arrays, columns, index, dtype, verify_integrity, typ, consolidate)\u001b[0m\n\u001b[1;32m    111\u001b[0m \u001b[39mif\u001b[39;00m verify_integrity:\n\u001b[1;32m    112\u001b[0m     \u001b[39m# figure out the index, if necessary\u001b[39;00m\n\u001b[1;32m    113\u001b[0m     \u001b[39mif\u001b[39;00m index \u001b[39mis\u001b[39;00m \u001b[39mNone\u001b[39;00m:\n\u001b[0;32m--> 114\u001b[0m         index \u001b[39m=\u001b[39m _extract_index(arrays)\n\u001b[1;32m    115\u001b[0m     \u001b[39melse\u001b[39;00m:\n\u001b[1;32m    116\u001b[0m         index \u001b[39m=\u001b[39m ensure_index(index)\n",
      "File \u001b[0;32m/opt/homebrew/lib/python3.11/site-packages/pandas/core/internals/construction.py:677\u001b[0m, in \u001b[0;36m_extract_index\u001b[0;34m(data)\u001b[0m\n\u001b[1;32m    675\u001b[0m lengths \u001b[39m=\u001b[39m \u001b[39mlist\u001b[39m(\u001b[39mset\u001b[39m(raw_lengths))\n\u001b[1;32m    676\u001b[0m \u001b[39mif\u001b[39;00m \u001b[39mlen\u001b[39m(lengths) \u001b[39m>\u001b[39m \u001b[39m1\u001b[39m:\n\u001b[0;32m--> 677\u001b[0m     \u001b[39mraise\u001b[39;00m \u001b[39mValueError\u001b[39;00m(\u001b[39m\"\u001b[39m\u001b[39mAll arrays must be of the same length\u001b[39m\u001b[39m\"\u001b[39m)\n\u001b[1;32m    679\u001b[0m \u001b[39mif\u001b[39;00m have_dicts:\n\u001b[1;32m    680\u001b[0m     \u001b[39mraise\u001b[39;00m \u001b[39mValueError\u001b[39;00m(\n\u001b[1;32m    681\u001b[0m         \u001b[39m\"\u001b[39m\u001b[39mMixing dicts with non-Series may lead to ambiguous ordering.\u001b[39m\u001b[39m\"\u001b[39m\n\u001b[1;32m    682\u001b[0m     )\n",
      "\u001b[0;31mValueError\u001b[0m: All arrays must be of the same length"
     ]
    }
   ],
   "source": [
    "grades = pd.DataFrame(\n",
    "    {\n",
    "        \"name\": [\"Chloe\", \"Grace\", \"Jeremy\", \"Isla\"],\n",
    "        \"unit_1_grade\": [95, 82, 83, 75],\n",
    "        \"unit_2_grade\": [91, 74, 89, 84],\n",
    "        \"Grade for the Year\": [93, 78, 86],\n",
    "    }\n",
    ")\n",
    "\n",
    "grades"
   ]
  },
  {
   "cell_type": "code",
   "execution_count": null,
   "metadata": {},
   "outputs": [],
   "source": []
  }
 ],
 "metadata": {
  "kernelspec": {
   "display_name": "Python 3",
   "language": "python",
   "name": "python3"
  },
  "language_info": {
   "codemirror_mode": {
    "name": "ipython",
    "version": 3
   },
   "file_extension": ".py",
   "mimetype": "text/x-python",
   "name": "python",
   "nbconvert_exporter": "python",
   "pygments_lexer": "ipython3",
   "version": "3.11.6"
  }
 },
 "nbformat": 4,
 "nbformat_minor": 2
}
